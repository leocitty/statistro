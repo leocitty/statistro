{
 "cells": [
  {
   "cell_type": "markdown",
   "metadata": {},
   "source": [
    "# Astrostatistics and Machine Learning (F5802Q020)\n",
    "\n",
    "**Davide Gerosa (University of Milano-Bicocca and INFN)**\n",
    "\n",
    "* Astrostatistics *(Noun)* The application of statistics to the study and analysis of astronomical or astrophysical data\n",
    "\n",
    "This course is based on previous work by many people. See [here]((https://github.com/dgerosa/astrostatistics_bicocca_2025/blob/main/README.md) for credits.\n",
    "\n",
    "---"
   ]
  },
  {
   "cell_type": "markdown",
   "metadata": {},
   "source": [
    "# Introduction"
   ]
  },
  {
   "cell_type": "markdown",
   "metadata": {
    "collapsed": true,
    "slideshow": {
     "slide_type": "slide"
    }
   },
   "source": [
    "The amount of raw information that is being generated every minute is extraordinary. And astronomy is no exception! Weither for **\"big data\"** or **\"small data\"**, a proper statistical treatment that accounts for statistical and systematic noise, as well as as signal dependencies on the measured output, is an essential piece to discovery. \n",
    "\n",
    "---\n",
    "\n",
    "What kinds of things can we learn from data, and how do we do it? \n",
    "\n",
    "*What* we can learn is really dependent on your goal, but this must align with the information content of the data. *How* we can interact with data is what **Data Mining** and **Machine Learning** are all about.\n",
    "\n",
    "* **Data mining** is exactly what it sounds like: sifting through piles of data in order to find something useful---like digging rock from the ground and extracting metal ores from it. It is sometimes called \"knowledge discovery\", since the emphasis is on techniques and attempts to find patterns in structured data.\n",
    "* **Machine learning** is about how to do this using computers to leverage our ability to extract useful information from the data by statistically comparing data to various models. The techniques are sometimes called \"statistical inference\", encompassing model fitting and model selection. \n",
    "\n",
    "---"
   ]
  },
  {
   "cell_type": "markdown",
   "metadata": {
    "slideshow": {
     "slide_type": "slide"
    }
   },
   "source": [
    "Who does data mining and uses machine learning?  About everyone and for about everything. Some examples from the real world (but there are so many!):\n",
    "\n",
    "- Amazon to predict things that you might buy or ads that you might like, https://phys.org/news/2019-06-amazon-tracking.html\n",
    "- Google for everything I guess, but here is a link about self-driving cars: http://dataconomy.com/how-data-science-is-driving-the-driverless-car/\n",
    "- Netflix to predict what shows you are likely to want to watch: https://en.wikipedia.org/wiki/Netflix_Prize, https://www.wired.co.uk/article/how-do-netflixs-algorithms-work-machine-learning-helps-to-predict-what-viewers-will-like\n",
    "- Insurance companies to predict how much of a risk it is to insure you\n",
    "- Financial institutions to predict the future prices of their investments\n",
    "- Election prognosticators, e.g., http://fivethirtyeight.com/\n",
    "- Sports teams e.g., https://en.wikipedia.org/wiki/Moneyball\n",
    "\n",
    "\n",
    "And, of course, **physicists and astronomers to study the world around us!**\n"
   ]
  },
  {
   "cell_type": "markdown",
   "metadata": {},
   "source": [
    "![](https://web-assets.domo.com/blog/wp-content/uploads/2024/12/Data-never-sleep-12.0.png)"
   ]
  },
  {
   "cell_type": "markdown",
   "metadata": {
    "slideshow": {
     "slide_type": "slide"
    }
   },
   "source": [
    "---\n",
    "\n",
    "### What is this class?\n",
    "\n",
    "* An introduction to *practical* statistical inference and data analysis.\n",
    "* *Practical*: This is important! One does not understand how to treat scientific data by reading equations on the blackboard: you will need to get your hands dirty (and this is the fun part!).\n",
    "* While examples are skewed towards astrophysics, the techniques we will look at are very general."
   ]
  },
  {
   "cell_type": "markdown",
   "metadata": {
    "slideshow": {
     "slide_type": "slide"
    }
   },
   "source": [
    "### Why this class?\n",
    "\n",
    "We're first of all (astro)physicists, not data scientists or statisticians. Stats is a tool, but a very important one!  **Having some knowledge of statistical inference, machine learning, and data mining is *absolutely essential* in today's modern astrophysics research.** There's really no way around it, I think.\n",
    "\n",
    "This figure from *drewconway.com* nicely illustrates the goal here. \n",
    "- You've had many of the green classes already (calculus, advanced maths methods)\n",
    "- You're into an entire degree of blue classes (astrophysics in this case)\n",
    "- And perhaps like to play with the red things as well (an hacking project you want to share?)\n",
    "\n",
    "This class is an attempt to put everything together and go as close to the middle as possible.\n",
    "\n",
    "![http://static1.squarespace.com/static/5150aec6e4b0e340ec52710a/t/51525c33e4b0b3e0d10f77ab/1364352052403/Data_Science_VD.png?format=750w](http://static1.squarespace.com/static/5150aec6e4b0e340ec52710a/t/51525c33e4b0b3e0d10f77ab/1364352052403/Data_Science_VD.png?format=750w)"
   ]
  },
  {
   "cell_type": "markdown",
   "metadata": {
    "slideshow": {
     "slide_type": "slide"
    }
   },
   "source": [
    "---\n",
    "\n",
    "### My research interests\n",
    "\n",
    "My own interest in the topic stems from my scientific research in **gravitational-wave astronomy** and **black-hole binary dynamics**. The current experiments are [LIGO](https://www.ligo.caltech.edu/) and [Virgo](https://www.virgo-gw.eu/), soon to be joined in the future by the space-borne [LISA](https://lisa.nasa.gov/) detector. Some of you are going to have a full class on gravitational-wave astronomy! These instruments extract detailed information about GW-emitting systems from **signals buried deep, deep within noise**. The techniques required to do this are at the forefront of data-based inferece, relying heavily on **Bayesian statistics**. \n",
    "\n",
    "Gravitational-wave data exploitation is in a particularly exciting phase now, bordering between the small data and the big data regime"
   ]
  },
  {
   "cell_type": "markdown",
   "metadata": {},
   "source": [
    "![](https://journals.aps.org/prd/article/10.1103/PhysRevD.100.064060/figures/4/medium)\n",
    "\n",
    "Figure from: *Gravitational-wave detection rates for compact binaries formed in isolation: LIGO/Virgo O3 and beyond*,  Baibhav, Berti, **Gerosa** et al. Physical Review D 100 (2019) 064060."
   ]
  },
  {
   "cell_type": "markdown",
   "metadata": {},
   "source": [
    "![](https://journals.aps.org/prd/article/10.1103/PhysRevD.98.083017/figures/9/medium)\n",
    "\n",
    "Figure from: *Mining Gravitational-wave Catalogs To Understand Binary Stellar Evolution: A New Hierarchical Bayesian Framework*,  Taylor, **Gerosa** et al. Physical Review D 98 (2018) 083017.\n",
    "\n",
    "This fit was done with Gaussian Process Regression... We'll see what this is about"
   ]
  },
  {
   "cell_type": "markdown",
   "metadata": {},
   "source": [
    "![](https://journals.aps.org/prd/article/10.1103/PhysRevD.102.103020/figures/2/medium)\n",
    "\n",
    "Figure from: *Gravitational-wave selection effects using neural-network classifiers*, **Gerosa**, Pratten, Vecchio. Physical Review D 102 (2020) 103020. \n",
    "\n",
    "This instead instead was done with a multilayer perceptron. We'll see what this is about..."
   ]
  },
  {
   "cell_type": "markdown",
   "metadata": {},
   "source": [
    "![](https://journals.aps.org/prd/article/10.1103/PhysRevD.104.044065/figures/9/medium)\n",
    "\n",
    "Figure from: *Bayesian parameter estimation of stellar-mass black-hole binaries with LISA*, Buschiccio et al. (incl. **Gerosa**). Physical Review D 104 (2021) 044065.  \n",
    "\n",
    "And this is nested sampling for the LISA space mission... We'll see this one as well\n"
   ]
  },
  {
   "cell_type": "markdown",
   "metadata": {},
   "source": [
    "This is a bit what I do, but there is so much more in astrostatistics!\n",
    "\n",
    "There is a new generation of astronomical sky surveys like the [Legacy Survey of Space and Time (LSST)](https://www.lsst.org/) of the Vera Rubin Observatory. LSST is a project that is going to generate about **200 PB** of data (that's 200 million GB) by the end of its 10 year mission.  During that time, it will have measured a hundred or more properties for some 40 billion objects---*every 3 nights*.   \n",
    "\n",
    "\n",
    "Moving to future experiments, the [Square Kilometre Array](https://www.skatelescope.org/) will be the premier radio observatory of the late 2020s and 2030s, consisting of ~3000 dishes, each 15 meters wide, and spread over South Africa and Australia. In a single day, it will generate raw data amounting to an ***exobyte***, which is more than the entire current daily internet traffic.\n",
    "\n",
    "Even that is small potatoes for particle physicists. In particle physics, they throw away *most* of their data because there is so much.  Instead they have the notion of a *trigger*, which is basically as series of \"if-then\" statements that decide whether or not an \"event\" is worth saving (for future analsyis) or not.\n",
    "\n",
    "---"
   ]
  },
  {
   "cell_type": "markdown",
   "metadata": {},
   "source": [
    "### Your research interests\n",
    "\n",
    "Enough about me, how about *your* interests?\n",
    "\n",
    "- Are you all enrolled in the Astrophysics MSc degree? Whay year?\n",
    "- Do we have people from Physics as well? If yes, what curriculum? People from other degrees?\n",
    "- Why did you pick this class? What do you want from it? (so at the end we can check if you got it). \n",
    "- How do you think statististics and data mining can be useful in your career?\n",
    "\n",
    "---"
   ]
  },
  {
   "cell_type": "markdown",
   "metadata": {
    "collapsed": true,
    "slideshow": {
     "slide_type": "slide"
    }
   },
   "source": [
    "### Broadly speaking...\n",
    "\n",
    "\n",
    "Almost everything that we will do can be categorized into one of two different pairs of things.\n",
    "\n",
    "- **Supervised learning** vs. **unsupervised learning**\n",
    "  - It's the learning algorithm that is being supervised, not you :-)\n",
    "  - Unsupervised learning is associated with data mining and knowledge discovery. It is exploratory data analysis, learning qualitative features of structured/labeled data that were not previously known.  \n",
    "  - Supervised learning is associated with machine learning and statistical inference. We might know the \"truth\" for (some) of the data that we are analyzing, which is \"supervising\" and guiding the learning process. We might have a physical model (or models) for the phenomenon against which we are fitting data, or using the data to selecting between physical models. \n",
    "  \n",
    "  \n",
    "![](https://assets.extrahop.com/images/blogart/supervised-vs-unsupervised-ml.png)\n",
    "(Figure from Wu 2019)  \n",
    "\n",
    "- **Classification** vs. **Regression**\n",
    "  - Classification means that we are trying to put our data into different discrete categories, e.g. **model selection**.\n",
    "  - Regression is the limit where the classification \"bins\" become continuous, e.g. **parameter estimation**.\n",
    "\n",
    "![](https://www.researchgate.net/profile/Yves-Matanga/publication/326175998/figure/fig9/AS:644582983352328@1530691967314/Classification-vs-Regression.png)\n",
    "(Figure from Matanga 2017)  \n",
    " \n",
    "\n",
    "These can be combined together:\n",
    " * supervised classification\n",
    " * unsupervised classification (aka clustering)\n",
    " * supervised regression\n",
    " * unsupervised regression (aka dimensional reduction)"
   ]
  },
  {
   "cell_type": "markdown",
   "metadata": {
    "slideshow": {
     "slide_type": "slide"
    }
   },
   "source": [
    "Graphically the course can be represented as a tour of the following [flowchart](https://scikit-learn.org/stable/_downloads/b82bf6cd7438a351f19fac60fbc0d927/ml_map.svg):\n",
    "![](https://scikit-learn.org/stable/_downloads/b82bf6cd7438a351f19fac60fbc0d927/ml_map.svg)"
   ]
  },
  {
   "cell_type": "markdown",
   "metadata": {},
   "source": [
    "---\n",
    "\n",
    "## Content\n",
    "\n",
    "The course is divided into 9 sections:\n",
    "\n",
    "1. **Probability**\n",
    "2. **Frequentist inference**\n",
    "3. **Bayesian inference**\n",
    "4. **Density estimation and clustering**\n",
    "5. **Dimensional reduction**\n",
    "6. **Regression**\n",
    "7. **Classification**\n",
    "8. **Deep learning**\n",
    "9. Time series (we won't have time for this but there's material on the website)\n",
    "\n",
    "There's a lot to cover in data mining, so we'll necessaryly only provide a broad introduction on these topics. Not saying you'll be ready for a data science job after this class, but this will definitely put you ahead of many many astronomers. In any case, I hope that's enough to give you the key background to dig deep into whatever you'll need for your research, during your Master's thesis and beyond. \n",
    "\n",
    "## Website \n",
    "\n",
    "#### Everything happens on github: [github.com/dgerosa/astrostatistics_bicocca_2025](https://github.com/dgerosa/astrostatistics_bicocca_2025)\n",
    "\n",
    "There you'll find all the codes, example, resources, extra material, etc. I'm not going to use e-learning much, that is because I want the material of this class to be publicly available (and indeed, students from elsewhere are also studying this now!)\n",
    "\n",
    "\n",
    "## Class times\n",
    "The class covers 6 credits = 42 hours = 21 lectures of 2 hours each.\n",
    "\n",
    "The full schedule is available at [github.com/dgerosa/astrostatistics_bicocca_2025](https://github.com/dgerosa/astrostatistics_bicocca_2025).\n",
    "\n",
    "\n",
    "[Here is a public calendar](https://calendar.google.com/calendar/embed?src=7b3eb78f345682c12c065855a0e49c6b21d2f1db72b244bf752dd534a47c6066%40group.calendar.google.com&ctz=Europe%2FRome) which you can import into your calendar software."
   ]
  },
  {
   "cell_type": "markdown",
   "metadata": {},
   "source": [
    "--- \n",
    "\n",
    "# Textbook and resources\n",
    "\n",
    "\n",
    "### Main textbook:\n",
    "\n",
    "[\"Statistics, Data Mining, and Machine Learning in Astronomy\"](https://press.princeton.edu/books/hardcover/9780691198309/statistics-data-mining-and-machine-learning-in-astronomy), Željko, Andrew, Jacob, and Gray. Princeton University Press, 2012.\n",
    "\n",
    "It's a wonderful book that I keep on referring to in my research. The library has a few physical copies and you can download it for free from the library webiste with your Bicocca credentials. What I really like about that book is that they provide the code behind each single figure: [astroml.org/book\\_figures](https://www.astroml.org/book_figures/). The best way to approach these topics is to study the introduction on the book, then grab the code and try to play with it.  Make sure you get the updated edition of the book (that's the one with a black cover, not orange) because all the examples have been updated to python 3.   \n",
    "\n",
    "![](https://pup-assets.imgix.net/onix/images/9780691198309.jpg?fit=fill&fill=solid&fill-color=ffffff&w=1200&h=630)\n",
    "\n",
    "### Other useful resources  \n",
    "\n",
    "- [\"Statistical Data Analysis\"](https://global.oup.com/academic/product/statistical-data-analysis-9780198501558?cc=fr&lang=en&), Cowan. Oxford Science Publications, 1997. \n",
    "- [\"Data Analysis: A Bayesian Tutorial\"](https://global.oup.com/academic/product/data-analysis-9780198568322?cc=fr&lang=en&), Sivia and Skilling. Oxford Science Publications, 2006.\n",
    "- [\"Bayesian Data Analysis\",](http://www.stat.columbia.edu/~gelman/book/) Gelman, Carlin, Stern, Dunson, Vehtari, and Rubin. Chapman & Hall, 2013. Free!\n",
    "- [\"Python Data Science Handbook\",](https://jakevdp.github.io/PythonDataScienceHandbook/) VanderPlas. O'Reilly Media, 2016. Free!\n",
    "- [\"Practical Statistics for Astronomers\"](https://www.cambridge.org/core/books/practical-statistics-for-astronomers/CEB9D5F985F062BAD67E7219B96A4CD6), Wall and Jenkins. Cambridge University Press, 2003.\n",
    "- [\"Bayesian Logical Data Analysis for the Physical Sciences\",](https://www.cambridge.org/core/books/bayesian-logical-data-analysis-for-the-physical-sciences/09E9A95DAE275F5B005676C71B542598) Gregory. Cambridge University Press, 2005.\n",
    "- [\"Modern Statistical Methods For Astronomy\" Feigelson and Babu.](https://www.cambridge.org/core/books/modern-statistical-methods-for-astronomy/941AE392A553D68DD7B02491BB66DDEC) Cambridge University Press, 2012.\n",
    "- [\"Information theory, inference, and learning algorithms\"](https://www.inference.org.uk/mackay/itila/book.html) MacKay. Cambridge University Press, 2003. Free!  \n",
    "- “Data analysis recipes\". These free are chapters of books that is not yet finished by Hogg et al.\n",
    "    - [\"Choosing the binning for a histogram\"](https://arxiv.org/abs/0807.4820) [arXiv:0807.4820]\n",
    "    - [\"Fitting a model to data](https://arxiv.org/abs/1008.4686) [arXiv:1008.4686]\n",
    "    - [\"Probability calculus for inference\"](https://arxiv.org/abs/1205.4446) [arXiv:1205.4446]\n",
    "    - [\"Using Markov Chain Monte Carlo\"](https://arxiv.org/abs/1710.06068) [arXiv:1710.06068]\n",
    "    - [\"Products of multivariate Gaussians in Bayesian inferences\"](https://arxiv.org/abs/2005.14199) [arXiv:2005.14199]\n",
    "- [\"Practical Guidance for Bayesian Inference in Astronomy\"](https://arxiv.org/abs/2302.04703), Eadie et al., 2023.\n",
    "- [\"Hands-On Machine Learning with Scikit-Learn, Keras, and TensorFlow\"](https://www.oreilly.com/library/view/hands-on-machine-learning/9781492032632/), Geron, O'Reilly Media, 2019.\n",
    "- [\"Machine Learning for Physics and Astronomy\"](https://press.princeton.edu/books/paperback/9780691206417/machine-learning-for-physics-and-astronomy), Acquaviva, Princeton University Press, 2023.\n",
    " - [\"A review of Unsupervised Learning in Astronomy\"](https://arxiv.org/abs/2406.17316), S. Fotopoulou et al., 2024.\n",
    "\n",
    "\n",
    "### Still need to embrace the python world?\n",
    "\n",
    "We will make heavy usage of the python programming language. If you need to refresh your **python skills**, here are some catch-up resources and online tutorials. A strong python programming background is essential in modern astrophysics.\n",
    "\n",
    "- [\"Scientific Computing with Pythion\"](https://dgerosa.github.io/scientificcomputing_bicocca), D. Gerosa. This is a class I teach for the PhD School here at Milano-Bicocca.\n",
    "- [\"Lectures on scientific computing with Python\"](https://github.com/jrjohansson/scientific-python-lectures), R. Johansson et al.  \n",
    "- [Python Programming for Scientists\"](https://astrofrog.github.io/py4sci/), T. Robitaille et al.\n",
    "- [\"Learning Scientific Programming with Python\"](https://www.cambridge.org/core/books/learning-scientific-programming-with-python/3D264483BC7B380A3059B3861C661237), Hill, Cambridge University Press, 2020. Supporting code: [scipython.com](https://scipython.com/)."
   ]
  },
  {
   "attachments": {
    "programing-clipart-md.jpg": {
     "image/jpeg": "[encoded data removed]"
    }
   },
   "cell_type": "markdown",
   "metadata": {},
   "source": [
    "## Coding practice\n",
    "\n",
    "\n",
    "\n",
    "![programing-clipart-md.jpg](attachment:programing-clipart-md.jpg)\n",
    "\n",
    "\n",
    "Data mining and machine learning are computational subjects. One does not understand how to treat scientific data by reading equations on the blackboard: you will need to get your hands dirty (and this is the fun part!). Students are required to come to classes with a laptop or any device where you can code on (larger than a smartphone I would say...). Each class will pair theoretical explanations to hands-on exercises and demonstrations. These are the key content of the course, so please engage with them as much a possible.\n",
    "\n",
    "The way the class is going to work is that I'll teach for I guess a bit more than half the time, and then we open the playground. At various points in the lectures you'll find **\"Time to get your hands dirty!\"**\n",
    "\n",
    "These are practical lab sessions where you'll be asked to immediately apply the tecniques you have just seen. So, open your jupyter notebook and have fun! I will, of course, be around to answer questions, give hints, guide the class, etc.\n",
    "\n",
    "### Which data?\n",
    "\n",
    "The vast majority of the applications presented in this class make use of astrophysical data. Some are from my research (*), most of them are not. \n",
    "\n",
    "- Get a goat in a TV show riddle.\n",
    "- Horse-kick deaths in the Prussian army in the 1850s.\n",
    "- Cloning quasars from the Sloan Digital Sky Survey.\n",
    "- Positions of quasars in the sky.\n",
    "- Black-hole binaries can form in different ways. (*)\n",
    "- Extracting energy from a black hole. (*)\n",
    "- Planning a telescope observation.\n",
    "- Charachertize astrophysical transients.\n",
    "- Teach a computer how to read handwritten digits.\n",
    "- The current catalog of gamma-ray bursts.\n",
    "- Stars on the HR diagram.\n",
    "- Supernova distance and redshift data for cosmology.\n",
    "- Is it a quasar or a galaxy? \n",
    "- Is this gravitational-wave detectable? (*)\n",
    "- Light curves from RR Lyrae variable stars.\n",
    "- The deep-learning playground.\n",
    "- Is it a quasar or a galaxy? But with deep learning...\n",
    "- Is this gravitational-wave detectable? (*) But with deep learning...\n",
    "\n",
    "The amount of practical activities will increase during the class. I'm afraid at the beginning we will need to lay the groundwork with a bit more maths.\n",
    "\n",
    "### Possible solutions, next time\n",
    "\n",
    "At the beginning of each lecture, I will quickly go through how I handled the coding assignment from the previous lecture. Some of these problems are very open ended: I don't claim to have *the solution*, only *a possible solution*. These draft solutions will also be shared via git, hopefully providing  some guiding material for your further explorations. \n",
    "\n",
    "### Why I teach this way?\n",
    "\n",
    "During this class, you will often use methods, datasets, and other tools before studying them in detail. This is not poor planning but rather a deliberate choice.\n",
    "\n",
    "We are often taught in a way that suggests we must fully master all prerequisites before attempting anything—like proving a list of theorems and lemmas before solving an exercise. However, this is an artificial way of learning. In my research experience, things rarely work that way. You are often thrown into topics in a more scattered manner—perhaps reading a paper that employs a method you’ve never encountered or diving into (astro)physical applications before fully grasping the underlying techniques.\n",
    "\n",
    "In many state-of-the-art topics, knowledge is not neatly organized in textbooks or structured syllabi. Instead, information is spread across papers and code documentation; if you’re lucky, there might be a review article. More often than not, you learn things backward—realizing after the fact why something works (“Ah! So that’s why!”).\n",
    "\n",
    "**My goal here is to introduce you to a way of learning that closely mirrors scientific research.** I believe machine learning is a great example of this approach. In this class, you will not only gain essential knowledge relevant to astrophysics but also develop a way of thinking and working that reflects how we conduct scientific research.\n",
    "\n",
    "Please approach my class, and the related difficulties, with this point in mind. It will be different from most other classes, but it's an attempt to introduce you to scientific research.  \n"
   ]
  },
  {
   "cell_type": "markdown",
   "metadata": {},
   "source": [
    "# Exams\n",
    "\n",
    "\n",
    "There will not be written tests, only an oral exam. You will need to come with all your **\"Time to get your hands dirty!\"** notebooks committed to your git fork, see below. \n",
    "\n",
    "### How\n",
    "\n",
    "The exam proceeds as follows:\n",
    "\n",
    "1. I will first pick one of your coding assignments and ask you to introduce it.\n",
    "2. The discussion then naturally moves on to other topics, with broader questions on the material we covered during the class.\n",
    "3. I will then ask you to pick a coding assignment of your choice and introduce it (this is up to you! You could pick the one you liked the most, the one you're most proud of, the one that is closer to your targeted research area, etc).\n",
    "\n",
    "### Important: Don't overdo it!\n",
    "\n",
    "- Coding assignments are not marked beforehand, so you don't need to submit them in advance. Just have them ready and committed when you come for the exam, that's all. \n",
    "-  **You do not need to write fully fledged and cleaned notebooks where your re-write the theory background etc etc.** This is a 6-CFU class and should correspond to a commensurate workload. \n",
    "- You're not writing a thesis or a paper: focus on the scientific content and don't get sidetracked with time-consuming clean up tasks. These are explorations of datasets, not essays.\n",
    "- As a guideline, your notebooks should not be cleaner than those of my solutions (and as you will see, they're kind of rough...)  \n",
    "\n",
    "### When\n",
    "\n",
    "- Exams are by appointment only (the official exam dates are nominal). Please send me an email (davide.gerosa@unimib.it) and we'll find a suitable day/time.\n",
    "- As for all exams here, you can come with a witness. \n",
    "- While I'm very happy to be flexible with the exam dates and value your time, that applies on your end as well. If you're not prepared as you would have liked and decide to turn down the result, that's ok, but I will ask you to wait about 2 months before coming back. This is equivalent to 6 exams attempts (*\"appelli\"*) per year."
   ]
  },
  {
   "cell_type": "markdown",
   "metadata": {},
   "source": [
    "---\n",
    "\n",
    "# Credits and feedback\n",
    "\n",
    "### I need your help!\n",
    "\n",
    "I strive to make this class better and keep it updated. **Please do give me feedback** (what works, what doesn't work, what topics have been covered in other classes already, if I assume too much from your computing skills, or if you want me to go faster, if the excercises are too hard or too easy, etc).\n",
    "\n",
    "Remember to complete the University questionnarie. This is important. \n",
    "\n",
    "In addition, I might also circulate a more tailored feedback form at the end of the class. And please feel free to come and give me your opinions at any time as we proceed. This is particularly useful so I can adjust the class for you. \n",
    "\n",
    "\n",
    "### Get in touch!\n",
    "\n",
    "I'm very happy to chat about astrostatistics (and more: gravity, science, thesis projects, career prospects, etc). My office is number 2007 at the second floor of the U2 building. Feel free to stop by and knock at my door. Or send me an email for an appointment: [davide.gerosa@unimib.it](mailto:davide.gerosa@unimib.it).\n",
    "\n",
    "### Recordings\n",
    "\n",
    " Recordings will be available on our [e-learning page](https://elearning.unimib.it/course/view.php?id=35298), not on github for privacy reasons.\n",
    "\n",
    "I'm happy to record these classes, as I think this can be useful when revising. At the same time, **I think that attending lectures in person is crucial.** As you will see very soon, you will be asked to immediately apply what you have learned, while you learn it. If you're not here, I think you'll miss out on the vast majority of the learning experience. Binge-watching the recorded lectures before the exam is not the same thing as attending a class (this is always true in my opinion, but especially in this case). \n",
    "\n",
    "\n",
    "### A huge thanks to...\n",
    "\n",
    "This class draws heavily from many others that came before me. Credit goes to:\n",
    "\n",
    "- Stephen Taylor (Vanderbilt University): [github.com/VanderbiltAstronomy/astr_8070_s21](github.com/VanderbiltAstronomy/astr_8070_s21).\n",
    "- Gordon Richards (Drexel University): [github.com/gtrichards/PHYS_440_540](https://github.com/gtrichards/PHYS_440_540).\n",
    "- Jake Vanderplas (University of Washington): [github.com/jakevdp/ESAC-stats-2014](https://github.com/jakevdp/ESAC-stats-2014).\n",
    "- Zeljko Ivezic (University of Washington): [github.com/uw-astr-302-w18/astr-302-w18](https://github.com/uw-astr-302-w18/astr-302-w18).\n",
    "- Andy Connolly (University of Washington): [cadence.lsst.org/introAstroML/](http://cadence.lsst.org/introAstroML).\n",
    "- Karen Leighly (University of Oklahoma): [seminar.ouml.org/](http://seminar.ouml.org).\n",
    "- Adam Miller (Northwestern University): [github.com/LSSTC-DSFP/LSSTC-DSFP-Sessions/](https://github.com/LSSTC-DSFP/LSSTC-DSFP-Sessions).\n",
    "- Jo Bovy (University of Toronto): [astro.utoronto.ca/~bovy/teaching.html](http://astro.utoronto.ca/~bovy/teaching.html).\n",
    "- Thomas Wiecki (PyMC Labs): [twiecki.github.io/blog/2015/11/10/mcmc-sampling](http://twiecki.github.io/blog/2015/11/10/mcmc-sampling).\n",
    "- Aurelienne Geron (freelancer): [github.com/ageron/handson-ml2](https://github.com/ageron/handson-ml2).\n",
    "\n"
   ]
  },
  {
   "cell_type": "markdown",
   "metadata": {},
   "source": [
    "---\n",
    "\n",
    "# IT setup\n",
    "\n",
    "Again, everything happens on github: [github.com/dgerosa/astrostatistics_bicocca_2025](https://github.com/dgerosa/astrostatistics_bicocca_2025)\n",
    "\n",
    "\n",
    "# Run python\n",
    "\n",
    "All this class is developed in python (ie: code and lecture notes coincide). There are at least three ways to run the code I prepared.\n",
    "\n",
    "## 1. Binder environment\n",
    "\n",
    "Right at the top of the page you see this button: [![Binder](https://mybinder.org/badge_logo.svg)](https://mybinder.org/v2/gh/dgerosa/astrostatistics_bicocca_2025/HEAD)\n",
    "\n",
    "That will open a interactive  environment hosted on a public cloud service where all the software we are going to need is already installed (loading might take a while). Those are jupyter notebooks like those I will use during the lectures. \n",
    "\n",
    "This is a good option if you just want to check something quickly (perhaps while following along, or revising before the exams etc). \n",
    "\n",
    "No worries if Binder takes a few minutes to load, that's normal (if you want to know more about the magic behind this, check out [mybinder](https://mybinder.org/) and [docker](https://www.docker.com/)).\n",
    "\n",
    "#### Important\n",
    "\n",
    "Binder session are temporary. Everytime you close and re-open you session, the environment starts back from what's available on Github. So if you make changes there while following along and solving the in-class problems, they will be lost forever.\n",
    "\n",
    "When using Binder you must download the document on your machine (there's a button in the toolbar) before closing  the browser window. You can also save and load in the browser's cache, but it's less reliable in my opinion.\n",
    "\n",
    "\n",
    "##  2. Unimib virtual machine\n",
    "\n",
    "I've also setup lab instances on the Bicocca virtual machines. (I assume you've used the system before, right?).\n",
    "\n",
    "First, sign up using this link: https://libaas.unimib.it/PubLab/register/34ddf7f4010db47dfa35\n",
    "\n",
    "Once you signed up, go to https://vdi-libaas.si.unimib.it/ to access your virtual machine. Or click this button on the github repository homepage:\n",
    "\n",
    "[![](https://custom-icon-badges.herokuapp.com/badge/launch-unimib%20virtual%20machine-orange.svg?logo=container&logoColor=white)](https://vdi-libaas.si.unimib.it/)\n",
    "\n",
    "## 3. Your own python distribution\n",
    "\n",
    "At some point in your research you'll need to run python code on your laptopt. I guess most of you have done it already for earlier classes (if so, how many?). It might take a bit of effort to set it up, but sooner is better than later. \n",
    "\n",
    "If you have trouble installing python on your laptopt, I'm happy to help as I can. I have done it before on both Mac and Linux and can debug your errors. I don't have personal experience with Windows but I was told that getting the [Anaconda installer](https://www.anaconda.com/products/individual#windows) is now the easiest way. \n",
    "\n",
    "## Installing python packages\n",
    "\n",
    "You probably know this already, but installing things in python is as easy as typing `pip install something` (if pip install doesn't work, something is wrong with your python installation).\n",
    "\n",
    "All the packages you need for this class are listed at [requirements.txt](https://github.com/dgerosa/astrostatistics_bicocca_2025/blob/main/requirements.txt) on Github. You might want to go ahead and install them all soon.\n"
   ]
  },
  {
   "cell_type": "markdown",
   "metadata": {},
   "source": [
    "---\n",
    "\n",
    "# Version control with git\n",
    "\n",
    "- How many of you have heard about `git` before?\n",
    "- How many of you have some experience with it?\n",
    "\n",
    "**Disclaimer**. You can probably get through this class without too much `git`, but I very highly reccomend learning it. It's  something that will make your life so much easier in research! You won't regret it.\n",
    "\n",
    "In brief, git is a strategy to handle your files, as simple as that. Most crucially, it scales extremely well with number of people and complexity of the workflow. \n",
    "\n",
    "- Imagine having hundreds or maybe thousands of developers working on the same piece of code or on the same paper. Good luck sharing files with things like Dropbox, Google Drive, or Overleaf! (Full disclaimer: using Overleaf, at least the free version, is a terrible idea, don't use it). \n",
    "- But even if it's just for  yourself... Ever happened that you code **used to** work a while ago, then you changed something, and now desperately want to go back? \n",
    "\n",
    "![](https://www.atlassian.com/dam/jcr:9f149cef-f784-43de-8207-3e7968789a1f/03.svg)\n",
    "\n",
    "### The basics\n",
    "\n",
    "- `git` is a transfer protocol (kind of like `http` or `ssh`) that is designed explicitely for code development.\n",
    "- On top of `git`, people have built web frontends to make our life easier (much like a browser for `http`). The most popular of these frontends is [github.com](https://github.com/) (which is owned by Microsoft now).\n",
    "\n",
    "The core element is a \"repository\", which is basically just a directory --or better: a directory git can talk to. A single repository can have several instances:\n",
    "- A remote server hosts a copy. In this case, we'll put it on github.com (it's free!).\n",
    "- Developer 1 (say me) has a copy.\n",
    "- Develper 2 (say you) has another copy.\n",
    "- etc.\n",
    "\n",
    "The repository of each developer talks only to the remote server:\n",
    "\n",
    "![](https://www.cs.swarthmore.edu/git/git-repos.svg)\n",
    "\n",
    "The process starts by creating a remote repository and **cloning** it locally (that's something you do only once). Someone changes the code locally and **pushes** it to the remote server. Someone else **pulls** the modification and goes on from there. The system is very smart, and has very precise rules on how to handle cases where both people edit the same file. Making a modification implies **adding** and **committing** a file.\n",
    "\n",
    "These five commands (`clone`, `pull`, `push`, `add`, `commit`) already let you to a ton of powerful stuff.  \n",
    "\n"
   ]
  },
  {
   "cell_type": "markdown",
   "metadata": {},
   "source": [
    "## Time to get your hands dirty!\n",
    "\n",
    "The first episode of \"time to get your hands dirty\" is about `git` and version control.\n",
    "\n",
    "\n",
    "### Part 1. Make sure you have it.\n",
    "\n",
    "1. \n",
    "\n",
    "To get `git` for any platform see: [https://git-scm.com/downloads/](https://git-scm.com/downloads/). If you don't have git installed right now on your machine, I encourage you to sort it out later in your own time.  For now you can use a Bicocca virtual machine, where `git` is already installed and functioning. Open a terminal window and run\n",
    "\n",
    "```bash\n",
    "which git\n",
    "```\n",
    "\n",
    "You should get a path like `/usr/bin/git` that indicates git is indeed present on your machine. \n",
    "\n",
    "2. \n",
    "Now create an account on [github.com](https://github.com/). Do what they say, and obviously select the free version. \n",
    "\n",
    "**Important**. Pick a professional username. Treat your github profile as an extension of your CV. People will look at ti!\n",
    "\n",
    "3. \n",
    "We now need to setup cryptographyic keys (we'll use [RSA keys](https://en.wikipedia.org/wiki/RSA_(cryptosystem)), a very fascinating concept of safe encryption which has to do with prime number theory).\n",
    "\n",
    "On your terminal type\n",
    "```bash|\n",
    "ssh-keygen\n",
    "```\n",
    "and hit return three times. You should see the paths of the keys. Now copy the content of your public key (not the private one!)\n",
    "\n",
    "```bash\n",
    "cat [path]/id_rsa.pub\n",
    "```\n",
    "\n",
    "Go to github, top-right corner, Settings, SSH and GPG keys, New SSH keys. Paste the content of `id_ras.pub` into that box. Careful about adding unwanted new-line characters when copying and pasting.\n",
    "\n",
    "\n",
    "### Part 2. Let's go!\n",
    "\n",
    "Let's practice some git now!\n",
    "\n",
    "1. On [github.com](https://github.com/), create a repository called `ilovegit`.\n",
    "\n",
    "2. clone your repo using:\n",
    "```bash\n",
    "cd ~/reps # Or wherever you want it to be\n",
    "git clone git@github.com:YOUR_GITHUB_USERNAME/ilovegit.git\n",
    "```\n",
    "\n",
    "3. start Jupyter in the cloned directory\n",
    "```bash\n",
    "cd ilovegit\n",
    "jupyter notebook &\n",
    "```\n",
    "4. create a new notebook. Name it `hello.ipynb`. Add a cell with the following piece of code:\n",
    "```python\n",
    "print(\"Hello World!\")\n",
    "```\n",
    "5. see what happened:\n",
    "```bash\n",
    "git status\n",
    "```\n",
    "6. add the notebook to your git repository and commit by running (in the terminal window) the following:\n",
    "```bash\n",
    "git add hello.ipynb\n",
    "git commit -m \"Added hello.ipynb to repository.\"\n",
    "```\n",
    "7. see what happened:\n",
    "```bash\n",
    "git status\n",
    "```\n",
    "8. make another change in the Jupyter notebook. For example, add another cell (\"+\" icon on the toolbar) with the following:\n",
    "```python\n",
    "x = 2+2\n",
    "print(x)\n",
    "```\n",
    "9. see what happened\n",
    "```bash\n",
    "git status\n",
    "```\n",
    "10. commit changed files (the `a` options is equivalent to do `add` and then `commit`)\n",
    "```bash\n",
    "git commit -am \"Updated hello.ipynb with complex mathematics.\"\n",
    "```\n",
    "11. \"push\" the changes to github\n",
    "```bash\n",
    "git push\n",
    "```\n",
    "12. go browse the result on github\n",
    "\n",
    "13. edit the readme from the broswer on github (this is to mimick what happens when someone touches the code)\n",
    "\n",
    "14. \"pull\" the changes from github\n",
    "```bash\n",
    "git pull\n",
    "```\n",
    "15. have a look at your local copy of README.md"
   ]
  },
  {
   "cell_type": "markdown",
   "metadata": {},
   "source": [
    "\n",
    "### Part 3. Interact with the class material\n",
    "\n",
    "I developed this class using `git`. Go to the class git repository at https://github.com/dgerosa/astrostatistics_bicocca_2025. **Don't clone this!** Instead, look to the rop right of the page for an option to fork the repository. This will make a copy of the class repository for your own personal use.\n",
    "\n",
    "Now that you have a fork of the repository, clone it to your machine.\n",
    "\n",
    "```bash\n",
    "git clone git@github.com:YOUR_GITHUB_USERNAME/astrostatistics_bicocca_2025.git\n",
    "```\n",
    "\n",
    "\n",
    "Before proceeding further, we're now going to add the `dgerosa` repository as an [`upstream` repository to your fork](https://docs.github.com/en/free-pro-team@latest/github/collaborating-with-issues-and-pull-requests/configuring-a-remote-for-a-fork). First, list the current configured remote repository for your fork with:\n",
    "\n",
    "```bash\n",
    "git remote -v\n",
    "```\n",
    "\n",
    "Now, add the `dgerosa` repo as an `upstream`:\n",
    "\n",
    "```bash\n",
    "git remote add upstream https://github.com/dgerosa/astrostatistics_bicocca_2025\n",
    "```\n",
    "\n",
    "Verify that the new repository shows as an upstream by running `git remote -v` again.\n",
    "\n",
    "\n",
    "You now have the ability to work with your own fork, sync upstream changes to this fork, and commit changes to your fork. (we won't do it, but git allows you to ask for permission to incorporate changes upstream, this feature is called `pull request`).\n",
    "\n",
    "In order to [sync new lectures from upstream to your fork](https://docs.github.com/en/free-pro-team@latest/github/collaborating-with-issues-and-pull-requests/syncing-a-fork), run the following in the local directory of your cloned fork:\n",
    "\n",
    "```bash\n",
    "git fetch upstream\n",
    "git checkout main\n",
    "git merge upstream/main\n",
    "```\n",
    "\n",
    "You should do this often in order to see new materials that I add. "
   ]
  },
  {
   "cell_type": "markdown",
   "metadata": {},
   "source": [
    "I would like you to come to the exam with all your \"Get you hands dirty\" exercises cleanly committed to your repository fork. \n",
    "\n",
    "- `lectures` contains the material shown during classes.\n",
    "- `solutions` contains my exploration with the proposed datasets. Better if you don't write anything in any of these two directories. \n",
    "- `working` is an empty directory for you. Put your solutions there.\n",
    "\n",
    "----\n",
    "\n",
    "These commands are going to be enough to get you through this class. If you want to dig deeper into git, this an excellent beginning-to-end crash course of about 1 hour. I found it very clear."
   ]
  },
  {
   "cell_type": "code",
   "execution_count": 1,
   "metadata": {
    "scrolled": true
   },
   "outputs": [
    {
     "data": {
      "image/jpeg": "[encoded data removed]",
      "text/html": [
       "\n",
       "        <iframe\n",
       "            width=\"400\"\n",
       "            height=\"300\"\n",
       "            src=\"https://www.youtube.com/embed/RGOj5yH7evk\"\n",
       "            frameborder=\"0\"\n",
       "            allowfullscreen\n",
       "            \n",
       "        ></iframe>\n",
       "        "
      ],
      "text/plain": [
       "<IPython.lib.display.YouTubeVideo at 0x109f04e10>"
      ]
     },
     "execution_count": 1,
     "metadata": {},
     "output_type": "execute_result"
    }
   ],
   "source": [
    "from IPython.display import YouTubeVideo\n",
    "YouTubeVideo('RGOj5yH7evk')"
   ]
  },
  {
   "cell_type": "markdown",
   "metadata": {},
   "source": [
    "### If you really hate all of this...\n",
    "\n",
    "Learning `git` is a core content of this class. This is because I believe `git` is a cornerstone of modern software development and I really think learning it would boost your science careers.\n",
    "\n",
    "There is a shortcut, which is to click on \"Code\" and \"Download ZIP\" from a brwoser on  https://github.com/dgerosa/astrostatistics_bicocca_2025. This will download a copy of the class material witouth any git interaction. However, you'll need to do it manually every time I update the material (and sort out differences between your changes and my changes... good luck!)."
   ]
  },
  {
   "cell_type": "code",
   "execution_count": null,
   "metadata": {},
   "outputs": [],
   "source": []
  }
 ],
 "metadata": {
  "anaconda-cloud": {},
  "kernelspec": {
   "display_name": "Python 3 (ipykernel)",
   "language": "python",
   "name": "python3"
  },
  "language_info": {
   "codemirror_mode": {
    "name": "ipython",
    "version": 3
   },
   "file_extension": ".py",
   "mimetype": "text/x-python",
   "name": "python",
   "nbconvert_exporter": "python",
   "pygments_lexer": "ipython3",
   "version": "3.11.4"
  }
 },
 "nbformat": 4,
 "nbformat_minor": 1
}
