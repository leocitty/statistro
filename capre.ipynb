{
 "cells": [
  {
   "cell_type": "code",
   "execution_count": 223,
   "metadata": {},
   "outputs": [],
   "source": [
    "import numpy as np\n",
    "import random as rd"
   ]
  },
  {
   "cell_type": "code",
   "execution_count": 224,
   "metadata": {},
   "outputs": [
    {
     "name": "stdout",
     "output_type": "stream",
     "text": [
      "1\n"
     ]
    },
    {
     "data": {
      "text/plain": [
       "[0, 1, 0]"
      ]
     },
     "execution_count": 224,
     "metadata": {},
     "output_type": "execute_result"
    }
   ],
   "source": [
    "door = [0]*3\n",
    "lambo = rd.randint(0,2)\n",
    "print(lambo)\n",
    "door[lambo] = 1\n",
    "door"
   ]
  },
  {
   "cell_type": "code",
   "execution_count": 225,
   "metadata": {},
   "outputs": [
    {
     "name": "stdout",
     "output_type": "stream",
     "text": [
      "2\n"
     ]
    }
   ],
   "source": [
    "questa = rd.randint(0,2)\n",
    "jeff = questa\n",
    "mark = questa\n",
    "\n",
    "capra = rd.randint(0,2)\n",
    "while (capra==questa or capra==lambo):\n",
    "    capra = rd.randint(0,2)\n",
    "\n",
    "print(capra)"
   ]
  },
  {
   "cell_type": "code",
   "execution_count": 226,
   "metadata": {},
   "outputs": [],
   "source": [
    "while (jeff==questa or jeff==capra):\n",
    "    jeff = rd.randint(0,2)\n",
    "\n",
    "frank = rd.randint(0,2)\n",
    "while (frank==capra):\n",
    "    frank = rd.randint(0,2)"
   ]
  },
  {
   "cell_type": "code",
   "execution_count": 227,
   "metadata": {},
   "outputs": [
    {
     "name": "stdout",
     "output_type": "stream",
     "text": [
      "[0, 1, 0]\n",
      "La porta 3 ha al suo interno una capra\n",
      "\n",
      "Nella porta 2 , Mark: 1 \n",
      "\n",
      "Nella porta 1 , Jeff: 0 \n",
      "\n",
      "Nella porta 1 , Frank: 0 \n",
      "\n"
     ]
    }
   ],
   "source": [
    "print(door)\n",
    "print('La porta', capra+1, 'ha al suo interno una capra\\n')\n",
    "print('Nella porta', mark+1, ', Mark:', door[mark], '\\n')\n",
    "print('Nella porta', jeff+1, ', Jeff:', door[jeff], '\\n')\n",
    "print('Nella porta', frank+1, ', Frank:', door[frank], '\\n')"
   ]
  },
  {
   "cell_type": "code",
   "execution_count": null,
   "metadata": {},
   "outputs": [],
   "source": []
  }
 ],
 "metadata": {
  "kernelspec": {
   "display_name": "base",
   "language": "python",
   "name": "python3"
  },
  "language_info": {
   "codemirror_mode": {
    "name": "ipython",
    "version": 3
   },
   "file_extension": ".py",
   "mimetype": "text/x-python",
   "name": "python",
   "nbconvert_exporter": "python",
   "pygments_lexer": "ipython3",
   "version": "3.12.7"
  }
 },
 "nbformat": 4,
 "nbformat_minor": 2
}
